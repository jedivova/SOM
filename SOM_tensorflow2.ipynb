{
 "cells": [
  {
   "cell_type": "code",
   "execution_count": 9,
   "metadata": {},
   "outputs": [],
   "source": [
    "from __future__ import print_function\n",
    "from ipywidgets import interact, interactive, fixed, interact_manual\n",
    "import ipywidgets as widjets\n",
    "import tensorflow as tf\n",
    "import numpy as np\n",
    "import matplotlib.pyplot as plt\n",
    "from sys import stdout\n",
    "from mpl_toolkits.mplot3d import Axes3D\n",
    "from time import time\n",
    "np.random.seed(0)"
   ]
  },
  {
   "cell_type": "code",
   "execution_count": 59,
   "metadata": {},
   "outputs": [],
   "source": [
    "class SOMNetwork():\n",
    "    def __init__(self, x,y, dim=10, sigma=None, learning_rate=0.1, tau1=1000, tau2=1000, dtype=tf.float32,accuracy = 0.001,init_map=None):\n",
    "        np.random.seed(0)\n",
    "        self.dtype = dtype\n",
    "        self._X = x\n",
    "        self._Y = y\n",
    "        if init_map==None:\n",
    "            self._data = np.random.rand(x,y,dim)\n",
    "        else: \n",
    "            self._data = DATA.reshape(30,30,3)\n",
    "        self._map_weights = tf.Variable(self._data,dtype=self.dtype, name='weights')\n",
    "        self.dim = tf.constant(dim, dtype=tf.int64)\n",
    "        self._learning_rate = tf.constant(learning_rate, dtype=self.dtype, name='learning_rate')\n",
    "        self._sigma = tf.constant(sigma, dtype=self.dtype, name='sigma')\n",
    "        self._tau1 = tf.constant(tau1, dtype=self.dtype, name='tau_learn_rate')\n",
    "        self._tau2 = tf.constant(tau2, dtype=self.dtype, name='tau_sigma')\n",
    "        self._accuracy = accuracy\n",
    "        self._input = tf.placeholder(shape=[dim], dtype=self.dtype, name='input')\n",
    "        self._num_iter = tf.placeholder(dtype=self.dtype, name='iteration')\n",
    "        self.positions = tf.where(tf.fill([dim, dim], True)) #полезно\n",
    "        self._distance_map = tf.constant(self.Get_Distances(self._X, self._Y),dtype='float32') #[0,1,2,3,2,1]\n",
    "        self.SOM_MAP = 1   #сохраняем карту сюда после сессии\n",
    "        \n",
    "    def change_params(self,sigma=6, learning_rate=0.1, tau1=1000, tau2=1000, init_map=None):\n",
    "        self._sigma = tf.constant(sigma, dtype=self.dtype, name='sigma')\n",
    "        self._learning_rate = tf.constant(learning_rate, dtype=self.dtype, name='learning_rate')\n",
    "        self._tau1 = tf.constant(tau1, dtype=self.dtype, name='tau_learn_rate')\n",
    "        self._tau2 = tf.constant(tau2, dtype=self.dtype, name='tau_sigma')\n",
    "        self._data = init_map\n",
    "        self._map_weights = tf.Variable(self._data,dtype=self.dtype, name='weights')\n",
    "        \n",
    "    def _train(self):\n",
    "        with tf.name_scope('cooperation') as scope:\n",
    "            #Calculating BMU\n",
    "            bmu_location = self._won_neuron()\n",
    "            \n",
    "            _current_learning_rate = tf.maximum(self._learning_rate*tf.exp(-self._num_iter/self._tau1), 0.1)\n",
    "            _current_sigma = tf.maximum(self._sigma*tf.exp(-self._num_iter/self._tau2), 0.1)\n",
    "            \n",
    "            bmu_distance = tf.roll(self._distance_map,shift=bmu_location, axis=[0,1])\n",
    "            neighbourhood_func = tf.exp(-bmu_distance/(2*_current_sigma**2))\n",
    "            learning_rate_matrix = _current_learning_rate* neighbourhood_func\n",
    "            delta = tf.transpose(tf.transpose(self._input-self._map_weights)*tf.transpose(learning_rate_matrix))\n",
    "            new_weights = tf.add(self._map_weights, delta)\n",
    "            training_op = tf.assign(self._map_weights, new_weights)\n",
    "            \n",
    "        return training_op\n",
    "    \n",
    "    def _won_neuron(self):\n",
    "        #M = self._input - self._map_weights\n",
    "        #distance = tf.norm(self._input - self._map_weights,axis=-1)\n",
    "        distance = tf.sqrt(tf.reduce_sum(tf.square(self._input - self._map_weights), axis=-1))\n",
    "        bmu=tf.argmin(tf.reshape(distance, [-1]))\n",
    "        #bmu_location = self.positions[bmu]\n",
    "        bmu_location = tf.unravel_index(bmu, [self._X,self._Y])\n",
    "        return bmu_location\n",
    "    \n",
    "    def training(self, data, n_iters,Verbose=False):\n",
    "        #summary_writer = tf.summary.FileWriter('./logs/', tf.get_default_graph())\n",
    "        #summary_op = tf.summary.scalar('Functional_Z', self.FUNCTIONAL_Z())\n",
    "        init = tf.global_variables_initializer()\n",
    "        _data = tf.constant(data,dtype=self.dtype, name='data')\n",
    "        _training = self._train()\n",
    "        _functional = self.FUNCTIONAL_Z()\n",
    "        data_len = len(data)\n",
    "        temp_funq = 0\n",
    "        \n",
    "        with tf.Session() as sess:\n",
    "            init.run()\n",
    "            for i in range(n_iters):\n",
    "                n_item = np.random.randint(data_len)\n",
    "                sess.run(_training, feed_dict={self._input: data[n_item], self._num_iter:i})\n",
    "                if i % 50 == 0:\n",
    "                    #summary_writer.add_summary(sess.run(summary_op), i)\n",
    "                    new_funq=sess.run(_functional)\n",
    "                    if abs(temp_funq-new_funq)<self._accuracy: break\n",
    "                    temp_funq = np.copy(new_funq)\n",
    "                if Verbose:\n",
    "                    _to_print = f'\\r Iters = {i}, funq = {new_funq}'\n",
    "                    stdout.write(_to_print)\n",
    "            self.SOM_MAP = SOM._map_weights.eval()\n",
    "        sess.close()\n",
    "        return i, new_funq\n",
    "            \n",
    "    \n",
    "    def check_for_nodes(self,data):\n",
    "        def WIN_NEURON(vect):\n",
    "            distances=np.linalg.norm(self.SOM_MAP-vect,axis=-1)\n",
    "            index=np.argmin(distances)\n",
    "            return index\n",
    "        #for i in range(len(data)):\n",
    "        for vect in data:\n",
    "            a=WIN_NEURON(vect)\n",
    "            print(a)\n",
    "    \n",
    "    def Get_Distances(self,y,x):\n",
    "        def ring_closure(A):\n",
    "            if A==1: return [0]\n",
    "            a=np.arange(A)\n",
    "            max_val = int(len(a)/2)\n",
    "            max_ind=np.argwhere(a==max_val)[0,0]\n",
    "            if len(a)%2==0:\n",
    "                b=np.arange(1,a[max_ind])[::-1]\n",
    "            else:\n",
    "                b=np.arange(1,a[max_ind+1])[::-1]\n",
    "            a[max_ind+1:]=b\n",
    "            return a\n",
    "        yv=ring_closure(y)\n",
    "        xv=ring_closure(x)\n",
    "        XV, YV = np.meshgrid(xv, yv)\n",
    "        #res = np.stack((YV,XV), axis=-1)\n",
    "        res = np.sqrt(XV**2+YV**2)\n",
    "        return res\n",
    "    \n",
    "    def ring_closure(self,A):\n",
    "        if A==1: return [0]\n",
    "        a=np.arange(A)\n",
    "        max_val = int(len(a)/2)\n",
    "        max_ind=np.argwhere(a==max_val)[0,0]\n",
    "        if len(a)%2==0:\n",
    "            b=np.arange(1,a[max_ind])[::-1]\n",
    "        else:\n",
    "            b=np.arange(1,a[max_ind+1])[::-1]\n",
    "        a[max_ind+1:]=b\n",
    "        return a\n",
    "    \n",
    "    def FUNCTIONAL_Z(self):\n",
    "        #ATTENTION! Working only for 2D maps\n",
    "        #Functional_Z = 0\n",
    "        B=tf.roll(self._map_weights, shift=1, axis=0)\n",
    "        F1 = tf.reduce_sum(tf.norm(tf.subtract(self._map_weights,B),axis=-1))\n",
    "        B=tf.roll(self._map_weights, shift=1, axis=1)\n",
    "        F2 = tf.reduce_sum(tf.norm(tf.subtract(self._map_weights,B),axis=-1))\n",
    "        return F1+F2\n",
    "    \n",
    "    \n",
    "    def func_for_Q(self):\n",
    "        bmu = self._won_neuron()\n",
    "        dist = tf.norm(self._input-self._map_weights[bmu], axis=0)\n",
    "        return dist\n",
    "    \n",
    "    def FUNCTIONAL_Q(self):\n",
    "        FUNC = tf.Variable(0)\n",
    "        init = tf.global_variables_initializer()\n",
    "        with tf.Session() as sess:\n",
    "            init.run()\n",
    "            for i in range(len(DATA)):\n",
    "                FUNC+=sess.run(func_for_Q, feed_dict = {self._input:DATA[i]})"
   ]
  },
  {
   "cell_type": "code",
   "execution_count": 50,
   "metadata": {},
   "outputs": [],
   "source": [
    "#DATA = np.load('cube100x100_60.npy')\n",
    "#DATA = np.load('cube100x100_30.npy')\n",
    "#DATA = np.load('cube100x100_30x30_2D.npy')\n",
    "DATA = np.load('data_circle_30x30_2D.npy')\n",
    "#print(DATA[111])"
   ]
  },
  {
   "cell_type": "code",
   "execution_count": 12,
   "metadata": {},
   "outputs": [
    {
     "data": {
      "text/plain": [
       "307.493861325969"
      ]
     },
     "execution_count": 12,
     "metadata": {},
     "output_type": "execute_result"
    }
   ],
   "source": [
    "def Functional_Z(a):\n",
    "    F1 = np.linalg.norm(a-np.roll(a,1,axis=0), axis=-1).sum()\n",
    "    F2 = np.linalg.norm(a-np.roll(a,1,axis=1), axis=-1).sum()\n",
    "    return F1+F2\n",
    "Functional_Z(DATA.reshape(30,30,3))"
   ]
  },
  {
   "cell_type": "code",
   "execution_count": 61,
   "metadata": {
    "scrolled": true
   },
   "outputs": [
    {
     "name": "stdout",
     "output_type": "stream",
     "text": [
      " Iters = 12999, funq = 289.47052001953125time taken:  12.802255868911743\n",
      "took13000 iters, funq 289.47027587890625\n"
     ]
    }
   ],
   "source": [
    "#SOM = SOMNetwork(x=30,y=30,dim=len(DATA[0]),sigma=2,learning_rate=1,tau1=1000,tau2=1000,dtype=tf.float32)  ну кое как\n",
    "SOM = SOMNetwork(x=30,y=30,dim=len(DATA[0]),sigma=2,learning_rate=1,tau1=3000,tau2=3000,dtype=tf.float32)\n",
    "#SOM.test()\n",
    "time_start=time()\n",
    "iters, funq = SOM.training(DATA, 40000, Verbose=True)\n",
    "print('time taken: ',time()-time_start)\n",
    "print(f'took{iters} iters, funq {funq}')\n",
    "\n",
    "#SOM.look_for_nodes(DATA)\n",
    "SOM_MAP = SOM.SOM_MAP"
   ]
  },
  {
   "cell_type": "code",
   "execution_count": 63,
   "metadata": {},
   "outputs": [
    {
     "name": "stdout",
     "output_type": "stream",
     "text": [
      " Iters = 2399, funq = 280.78979492187595\n",
      "time taken:  2.5320796966552734\n",
      "took2400 iters, funq 280.7889099121094\n"
     ]
    }
   ],
   "source": [
    "SOM.change_params(sigma=1,learning_rate=1,tau1=2000,tau2=1000, init_map=DATA.reshape(30,30,3))\n",
    "time_start=time()\n",
    "iters, funq = SOM.training(DATA, 40000, Verbose=True)\n",
    "print()\n",
    "print('time taken: ',time()-time_start)\n",
    "print(f'took{iters} iters, funq {funq}')\n",
    "SOM_MAP = SOM.SOM_MAP"
   ]
  },
  {
   "cell_type": "code",
   "execution_count": 24,
   "metadata": {},
   "outputs": [],
   "source": [
    "#DATA1 = DATA.reshape(30,30,3)\n",
    "DATA1 = SOM_MAP"
   ]
  },
  {
   "cell_type": "code",
   "execution_count": 43,
   "metadata": {},
   "outputs": [
    {
     "data": {
      "application/vnd.jupyter.widget-view+json": {
       "model_id": "b47dd02acdde42a1906cf167a64f0f65",
       "version_major": 2,
       "version_minor": 0
      },
      "text/plain": [
       "interactive(children=(IntSlider(value=0, description='i', max=29), Output()), _dom_classes=('widget-interact',…"
      ]
     },
     "metadata": {},
     "output_type": "display_data"
    }
   ],
   "source": [
    "DATA1 = SOM_MAP\n",
    "@interact(i=(0,29,1))\n",
    "def print_circle(i=0):\n",
    "    fig = plt.figure(figsize=(10,5))\n",
    "    ax = fig.add_subplot(121, projection='3d')\n",
    "    plt.xlim(-1, 1)\n",
    "    plt.ylim(-1, 1)\n",
    "    xs = SOM_MAP[:,i, 0]\n",
    "    ys = SOM_MAP[:,i, 1]\n",
    "    zs = SOM_MAP[:,i, 2]\n",
    "    ax.plot(xs, ys, zs, marker='^')\n",
    "    \n",
    "    xs = SOM_MAP[i,:, 0]\n",
    "    ys = SOM_MAP[i,:, 1]\n",
    "    zs = SOM_MAP[i,:, 2]\n",
    "\n",
    "    ax.plot(xs, ys, zs, marker='^')\n",
    "\n",
    "    ax.set_xlabel('X')\n",
    "    ax.set_ylabel('Y')\n",
    "    ax.set_zlabel('Z')\n",
    "\n",
    "    ax1 = fig.add_subplot(122, projection='3d')\n",
    "    plt.xlim(-1, 1)\n",
    "    plt.ylim(-1, 1)\n",
    "    #plt.zlim(-1, 1)\n",
    "    DD=SOM_MAP.reshape(-1,3)\n",
    "    xs = DD[:, 0]\n",
    "    ys = DD[:, 1]\n",
    "    zs = DD[:, 2]\n",
    "    ax1.scatter(xs, ys, zs, c='b', marker='^')\n",
    "    #ax.plot(xs, ys, zs, marker='^')\n",
    "    ax1.set_xlabel('X')\n",
    "    ax1.set_ylabel('Y')\n",
    "    ax1.set_zlabel('Z')\n",
    "    plt.show()\n"
   ]
  },
  {
   "cell_type": "code",
   "execution_count": 44,
   "metadata": {},
   "outputs": [],
   "source": [
    "import numpy\n",
    "from mayavi.mlab import *\n",
    "\n",
    "def test_points3d():\n",
    "    dd=DATA1.reshape(-1,3)\n",
    "    x = dd[:,0]\n",
    "    y = dd[:,1]\n",
    "    z = dd[:,2]\n",
    "\n",
    "    return points3d(x, y, z, colormap=\"copper\", scale_factor=.1)\n",
    "\n",
    "test_points3d()\n",
    "show()"
   ]
  },
  {
   "cell_type": "code",
   "execution_count": 103,
   "metadata": {},
   "outputs": [
    {
     "data": {
      "application/vnd.jupyter.widget-view+json": {
       "model_id": "bad3aaed3a1a457cafab1c34d5c9c15c",
       "version_major": 2,
       "version_minor": 0
      },
      "text/plain": [
       "interactive(children=(IntSlider(value=0, description='i', max=29), Output()), _dom_classes=('widget-interact',…"
      ]
     },
     "metadata": {},
     "output_type": "display_data"
    }
   ],
   "source": [
    "@interact(i=(0,29,1))\n",
    "def print_circle(i=0):\n",
    "    fig = plt.figure()\n",
    "    ax = fig.add_subplot(111, projection='3d')\n",
    "    plt.xlim(-1, 1)\n",
    "    plt.ylim(-1, 1)\n",
    "    #plt.zlim(-1, 1)\n",
    "    xs = DATA1[i,:, 0]\n",
    "    ys = DATA1[i,:, 1]\n",
    "    zs = DATA1[i,:, 2]\n",
    "    #ax.scatter(xs, ys, zs, c='b', marker='^')\n",
    "    ax.plot(xs, ys, zs, marker='^')\n",
    "\n",
    "    ax.set_xlabel('X')\n",
    "    ax.set_ylabel('Y')\n",
    "    ax.set_zlabel('Z')\n",
    "\n",
    "    plt.show()\n"
   ]
  },
  {
   "cell_type": "code",
   "execution_count": 69,
   "metadata": {},
   "outputs": [
    {
     "data": {
      "application/vnd.jupyter.widget-view+json": {
       "model_id": "793daceda7e140cf91373c15575a0ffd",
       "version_major": 2,
       "version_minor": 0
      },
      "text/plain": [
       "interactive(children=(IntSlider(value=0, description='i', max=29), Output()), _dom_classes=('widget-interact',…"
      ]
     },
     "metadata": {},
     "output_type": "display_data"
    }
   ],
   "source": [
    "def _iterator():\n",
    "    for learn_rate in [1]:\n",
    "        for sigma in np.linspace(1, 30, 6):\n",
    "            for tau1 in np.linspace(100, 5000, 10):\n",
    "                for tau2 in np.linspace(100, 1500, 3):\n",
    "                    yield (np.array([learn_rate, sigma, tau1, tau2]))\n",
    "        \n",
    "def worker(x):\n",
    "    \n",
    "    learn_rate, sigma, tau1, tau2 = x\n",
    "    SOM.change_params(sigma,learn_rate,tau1, tau2)\n",
    "    iters, funq = SOM.training(DATA, 5000)\n",
    "    \n",
    "    res = [learn_rate, sigma, tau1, tau2, iters, funq]\n",
    "    #print(f'{res}, time {Time_exec}')\n",
    "    return res\n",
    "\n",
    "\n",
    "\n",
    "\n",
    "SOM = SOMNetwork(x=len(DATA),dim=len(DATA[0]),sigma=2,learning_rate=1,tau1=2000,tau2=100,dtype=tf.float32)\n",
    "testing_params = []\n",
    "for num_iter,x in enumerate(_iterator()):\n",
    "    time_start = time()\n",
    "    res = worker(x)\n",
    "    Time_exec = time()-time_start\n",
    "    print(f'iter {num_iter}, res {res},time {Time_exec}')\n",
    "    testing_params.append(res)\n",
    "    if num_iter % 10==0:\n",
    "        np.save('testing_params3.npy',np.array(testing_params))\n",
    "np.save('testing_params3.npy',np.array(testing_params))"
   ]
  },
  {
   "cell_type": "code",
   "execution_count": 71,
   "metadata": {},
   "outputs": [
    {
     "data": {
      "application/vnd.jupyter.widget-view+json": {
       "model_id": "c80e0a2f4a9e46f486272dfc2e51c46d",
       "version_major": 2,
       "version_minor": 0
      },
      "text/plain": [
       "interactive(children=(IntSlider(value=0, description='i', max=29), Output()), _dom_classes=('widget-interact',…"
      ]
     },
     "metadata": {},
     "output_type": "display_data"
    }
   ],
   "source": [
    "@interact(i=(0,29,1))\n",
    "def print_circle(i=0):\n",
    "    plt.figure(figsize=(4,4))\n",
    "    x = SOM_MAP[:,i,0]\n",
    "    y = SOM_MAP[:,i,1]\n",
    "    plt.xlim(-1, 1)\n",
    "    plt.ylim(-1, 1)\n",
    "    plt.plot(x,y,'o-')"
   ]
  },
  {
   "cell_type": "code",
   "execution_count": 64,
   "metadata": {},
   "outputs": [
    {
     "data": {
      "application/vnd.jupyter.widget-view+json": {
       "model_id": "361461f654fc4176bdaf8ccefee2a886",
       "version_major": 2,
       "version_minor": 0
      },
      "text/plain": [
       "interactive(children=(IntSlider(value=0, description='x', max=29), IntSlider(value=0, description='y', max=29)…"
      ]
     },
     "metadata": {},
     "output_type": "display_data"
    }
   ],
   "source": [
    "@interact(x=(0,29,1), y=(0,29,1))\n",
    "def test(x=0,y=0):\n",
    "    plt.imshow(SOM_MAP[x,y].reshape(100,100))"
   ]
  },
  {
   "cell_type": "code",
   "execution_count": 16,
   "metadata": {},
   "outputs": [
    {
     "data": {
      "application/vnd.jupyter.widget-view+json": {
       "model_id": "702b690b05004835b1f2d7ffa466b502",
       "version_major": 2,
       "version_minor": 0
      },
      "text/plain": [
       "interactive(children=(IntSlider(value=449, description='i', max=899), Output()), _dom_classes=('widget-interac…"
      ]
     },
     "metadata": {},
     "output_type": "display_data"
    }
   ],
   "source": [
    "@interact(i=(0,len(DATA)-1,1))\n",
    "def test(i):\n",
    "    plt.imshow(DATA[i].reshape(100,100))"
   ]
  },
  {
   "cell_type": "code",
   "execution_count": null,
   "metadata": {},
   "outputs": [
    {
     "name": "stdout",
     "output_type": "stream",
     "text": [
      "iter 0, res [1.0, 1.0, 100.0, 100.0, 11800, 273.28723],time 9.641743898391724\n",
      "iter 1, res [1.0, 1.0, 100.0, 644.4444444444445, 16200, 282.67715],time 13.621647834777832\n",
      "iter 2, res [1.0, 1.0, 100.0, 1188.888888888889, 19000, 283.2836],time 16.02179217338562\n",
      "iter 3, res [1.0, 1.0, 100.0, 1733.3333333333335, 21350, 279.82565],time 17.896175861358643\n",
      "iter 4, res [1.0, 1.0, 100.0, 2277.777777777778, 12950, 268.96747],time 11.13916802406311\n",
      "iter 5, res [1.0, 1.0, 100.0, 2822.222222222222, 10150, 257.77475],time 8.602128028869629\n",
      "iter 6, res [1.0, 1.0, 100.0, 3366.666666666667, 6700, 263.4489],time 5.83296012878418\n",
      "iter 7, res [1.0, 1.0, 100.0, 3911.1111111111113, 14650, 269.5352],time 12.176800012588501\n",
      "iter 8, res [1.0, 1.0, 100.0, 4455.555555555556, 10300, 269.4231],time 8.742496013641357\n",
      "iter 9, res [1.0, 1.0, 100.0, 5000.0, 13350, 259.90826],time 11.357407808303833\n",
      "iter 10, res [1.0, 1.0, 644.4444444444445, 100.0, 2650, 273.5124],time 2.500831365585327\n",
      "iter 11, res [1.0, 1.0, 644.4444444444445, 644.4444444444445, 12250, 272.23767],time 10.210654973983765\n",
      "iter 12, res [1.0, 1.0, 644.4444444444445, 1188.888888888889, 7600, 269.00247],time 6.624576568603516\n",
      "iter 13, res [1.0, 1.0, 644.4444444444445, 1733.3333333333335, 6750, 265.06134],time 5.891488075256348\n",
      "iter 14, res [1.0, 1.0, 644.4444444444445, 2277.777777777778, 9600, 269.7953],time 8.235088109970093\n",
      "iter 15, res [1.0, 1.0, 644.4444444444445, 2822.222222222222, 9050, 261.7158],time 7.70139217376709\n",
      "iter 16, res [1.0, 1.0, 644.4444444444445, 3366.666666666667, 16200, 276.72174],time 13.711920261383057\n",
      "iter 17, res [1.0, 1.0, 644.4444444444445, 3911.1111111111113, 9200, 262.6457],time 7.898799657821655\n",
      "iter 18, res [1.0, 1.0, 644.4444444444445, 4455.555555555556, 16650, 269.7519],time 14.317039966583252\n",
      "iter 19, res [1.0, 1.0, 644.4444444444445, 5000.0, 19100, 268.95236],time 16.117023944854736\n",
      "iter 20, res [1.0, 1.0, 1188.888888888889, 100.0, 3050, 275.40265],time 3.1138880252838135\n",
      "iter 21, res [1.0, 1.0, 1188.888888888889, 644.4444444444445, 3650, 280.60144],time 3.3395678997039795\n",
      "iter 22, res [1.0, 1.0, 1188.888888888889, 1188.888888888889, 7400, 276.67355],time 6.376079797744751\n",
      "iter 23, res [1.0, 1.0, 1188.888888888889, 1733.3333333333335, 11750, 274.8025],time 10.067808151245117\n",
      "iter 24, res [1.0, 1.0, 1188.888888888889, 2277.777777777778, 16750, 275.8969],time 14.688047885894775\n",
      "iter 25, res [1.0, 1.0, 1188.888888888889, 2822.222222222222, 11050, 272.03302],time 10.052431583404541\n",
      "iter 26, res [1.0, 1.0, 1188.888888888889, 3366.666666666667, 11150, 265.41174],time 10.064831972122192\n",
      "iter 27, res [1.0, 1.0, 1188.888888888889, 3911.1111111111113, 12450, 268.94287],time 10.81825590133667\n",
      "iter 28, res [1.0, 1.0, 1188.888888888889, 4455.555555555556, 15950, 272.792],time 13.868160009384155\n",
      "iter 29, res [1.0, 1.0, 1188.888888888889, 5000.0, 14750, 267.24634],time 12.727856159210205\n",
      "iter 30, res [1.0, 1.0, 1733.3333333333335, 100.0, 5100, 282.39276],time 4.513104677200317\n",
      "iter 31, res [1.0, 1.0, 1733.3333333333335, 644.4444444444445, 7200, 285.03433],time 6.203471899032593\n",
      "iter 32, res [1.0, 1.0, 1733.3333333333335, 1188.888888888889, 6750, 279.06354],time 5.897936105728149\n",
      "iter 33, res [1.0, 1.0, 1733.3333333333335, 1733.3333333333335, 4900, 266.1949],time 4.280479907989502\n",
      "iter 34, res [1.0, 1.0, 1733.3333333333335, 2277.777777777778, 6150, 269.2079],time 5.481295824050903\n",
      "iter 35, res [1.0, 1.0, 1733.3333333333335, 2822.222222222222, 6200, 268.16492],time 5.472368001937866\n",
      "iter 36, res [1.0, 1.0, 1733.3333333333335, 3366.666666666667, 14400, 277.74808],time 12.222928285598755\n",
      "iter 37, res [1.0, 1.0, 1733.3333333333335, 3911.1111111111113, 16850, 274.34222],time 14.315055847167969\n",
      "iter 38, res [1.0, 1.0, 1733.3333333333335, 4455.555555555556, 15000, 268.47348],time 12.567152261734009\n",
      "iter 39, res [1.0, 1.0, 1733.3333333333335, 5000.0, 13600, 273.9793],time 11.420399904251099\n",
      "iter 40, res [1.0, 1.0, 2277.777777777778, 100.0, 1250, 285.81326],time 1.4607198238372803\n",
      "iter 41, res [1.0, 1.0, 2277.777777777778, 644.4444444444445, 3950, 288.96484],time 3.6803200244903564\n",
      "iter 42, res [1.0, 1.0, 2277.777777777778, 1188.888888888889, 3800, 281.3468],time 3.566240072250366\n",
      "iter 43, res [1.0, 1.0, 2277.777777777778, 1733.3333333333335, 5200, 276.96954],time 4.688191890716553\n",
      "iter 44, res [1.0, 1.0, 2277.777777777778, 2277.777777777778, 8000, 278.46033],time 6.806112051010132\n",
      "iter 45, res [1.0, 1.0, 2277.777777777778, 2822.222222222222, 12450, 278.08917],time 10.667471885681152\n",
      "iter 46, res [1.0, 1.0, 2277.777777777778, 3366.666666666667, 4900, 265.45084],time 4.544847726821899\n",
      "iter 47, res [1.0, 1.0, 2277.777777777778, 3911.1111111111113, 9300, 271.5138],time 7.9454240798950195\n",
      "iter 48, res [1.0, 1.0, 2277.777777777778, 4455.555555555556, 18300, 278.42212],time 16.104126930236816\n",
      "iter 49, res [1.0, 1.0, 2277.777777777778, 5000.0, 17400, 271.72998],time 14.828416109085083\n",
      "iter 50, res [1.0, 1.0, 2822.222222222222, 100.0, 3900, 292.28748],time 3.672384023666382\n",
      "iter 51, res [1.0, 1.0, 2822.222222222222, 644.4444444444445, 5400, 291.13263],time 4.886095762252808\n",
      "iter 52, res [1.0, 1.0, 2822.222222222222, 1188.888888888889, 4000, 282.50903],time 3.7581918239593506\n",
      "iter 53, res [1.0, 1.0, 2822.222222222222, 1733.3333333333335, 4500, 280.62054],time 4.1619367599487305\n",
      "iter 54, res [1.0, 1.0, 2822.222222222222, 2277.777777777778, 7650, 280.38086],time 6.7966883182525635\n",
      "iter 55, res [1.0, 1.0, 2822.222222222222, 2822.222222222222, 8600, 273.28534],time 7.267888069152832\n",
      "iter 56, res [1.0, 1.0, 2822.222222222222, 3366.666666666667, 13050, 275.74252],time 11.142143964767456\n",
      "iter 57, res [1.0, 1.0, 2822.222222222222, 3911.1111111111113, 6350, 271.69324],time 5.860735893249512\n",
      "iter 58, res [1.0, 1.0, 2822.222222222222, 4455.555555555556, 14750, 273.36218],time 12.672799587249756\n",
      "iter 59, res [1.0, 1.0, 2822.222222222222, 5000.0, 13150, 278.81787],time 11.391631841659546\n",
      "iter 60, res [1.0, 1.0, 3366.666666666667, 100.0, 2650, 288.82037],time 2.696255922317505\n",
      "iter 61, res [1.0, 1.0, 3366.666666666667, 644.4444444444445, 8150, 294.1988],time 7.336336135864258\n",
      "iter 62, res [1.0, 1.0, 3366.666666666667, 1188.888888888889, 5850, 289.5829],time 5.342912197113037\n",
      "iter 63, res [1.0, 1.0, 3366.666666666667, 1733.3333333333335, 6900, 284.43768],time 6.1995038986206055\n",
      "iter 64, res [1.0, 1.0, 3366.666666666667, 2277.777777777778, 4100, 275.14697],time 3.8955838680267334\n",
      "iter 65, res [1.0, 1.0, 3366.666666666667, 2822.222222222222, 7700, 279.21545],time 6.871088266372681\n",
      "iter 66, res [1.0, 1.0, 3366.666666666667, 3366.666666666667, 8450, 274.60776],time 7.34377646446228\n",
      "iter 67, res [1.0, 1.0, 3366.666666666667, 3911.1111111111113, 7850, 276.92715],time 7.01095986366272\n",
      "iter 68, res [1.0, 1.0, 3366.666666666667, 4455.555555555556, 14400, 281.50073],time 12.381648302078247\n",
      "iter 69, res [1.0, 1.0, 3366.666666666667, 5000.0, 9650, 274.9046],time 8.532191753387451\n",
      "iter 70, res [1.0, 1.0, 3911.1111111111113, 100.0, 7150, 296.16278],time 6.659791946411133\n",
      "iter 71, res [1.0, 1.0, 3911.1111111111113, 644.4444444444445, 5700, 287.25092],time 5.895951986312866\n",
      "iter 72, res [1.0, 1.0, 3911.1111111111113, 1188.888888888889, 5500, 281.6623],time 6.44601583480835\n",
      "iter 73, res [1.0, 1.0, 3911.1111111111113, 1733.3333333333335, 5100, 284.15997],time 5.906863451004028\n",
      "iter 74, res [1.0, 1.0, 3911.1111111111113, 2277.777777777778, 5900, 279.04456],time 6.615648031234741\n",
      "iter 75, res [1.0, 1.0, 3911.1111111111113, 2822.222222222222, 8500, 278.46088],time 9.208239793777466\n",
      "iter 76, res [1.0, 1.0, 3911.1111111111113, 3366.666666666667, 8850, 276.3739],time 9.507823944091797\n",
      "iter 77, res [1.0, 1.0, 3911.1111111111113, 3911.1111111111113, 10800, 285.5728],time 11.330623865127563\n",
      "iter 78, res [1.0, 1.0, 3911.1111111111113, 4455.555555555556, 8350, 275.33954],time 9.253870964050293\n",
      "iter 79, res [1.0, 1.0, 3911.1111111111113, 5000.0, 13700, 273.17444],time 14.534784078598022\n",
      "iter 80, res [1.0, 1.0, 4455.555555555556, 100.0, 5100, 294.6414],time 5.655392169952393\n",
      "iter 81, res [1.0, 1.0, 4455.555555555556, 644.4444444444445, 4600, 297.26013],time 5.213455677032471\n",
      "iter 82, res [1.0, 1.0, 4455.555555555556, 1188.888888888889, 7300, 280.81113],time 7.935504198074341\n"
     ]
    },
    {
     "name": "stdout",
     "output_type": "stream",
     "text": [
      "iter 83, res [1.0, 1.0, 4455.555555555556, 1733.3333333333335, 5200, 282.88654],time 5.645967960357666\n",
      "iter 84, res [1.0, 1.0, 4455.555555555556, 2277.777777777778, 5550, 283.10645],time 6.27340841293335\n",
      "iter 85, res [1.0, 1.0, 4455.555555555556, 2822.222222222222, 4650, 279.20667],time 5.82750391960144\n",
      "iter 86, res [1.0, 1.0, 4455.555555555556, 3366.666666666667, 300, 230.92793],time 1.0167999267578125\n",
      "iter 87, res [1.0, 1.0, 4455.555555555556, 3911.1111111111113, 10200, 281.1918],time 10.782048225402832\n",
      "iter 88, res [1.0, 1.0, 4455.555555555556, 4455.555555555556, 9950, 275.3177],time 12.530944108963013\n",
      "iter 89, res [1.0, 1.0, 4455.555555555556, 5000.0, 1950, 249.82382],time 3.048912286758423\n",
      "iter 90, res [1.0, 1.0, 5000.0, 100.0, 7400, 295.59326],time 9.958192110061646\n",
      "iter 91, res [1.0, 1.0, 5000.0, 644.4444444444445, 6500, 290.39746],time 8.497472286224365\n",
      "iter 92, res [1.0, 1.0, 5000.0, 1188.888888888889, 9100, 282.0078],time 9.875856161117554\n",
      "iter 93, res [1.0, 1.0, 5000.0, 1733.3333333333335, 7500, 283.7226],time 6.982687950134277\n",
      "iter 94, res [1.0, 1.0, 5000.0, 2277.777777777778, 5500, 280.19147],time 5.102352142333984\n",
      "iter 95, res [1.0, 1.0, 5000.0, 2822.222222222222, 7550, 281.78284],time 6.828431844711304\n",
      "iter 96, res [1.0, 1.0, 5000.0, 3366.666666666667, 8850, 281.67627],time 8.302543878555298\n",
      "iter 97, res [1.0, 1.0, 5000.0, 3911.1111111111113, 5900, 272.66516],time 6.720799922943115\n",
      "iter 98, res [1.0, 1.0, 5000.0, 4455.555555555556, 8150, 286.63672],time 7.680063724517822\n",
      "iter 99, res [1.0, 1.0, 5000.0, 5000.0, 9600, 276.83417],time 8.3962881565094\n",
      "iter 100, res [1.0, 6.8, 100.0, 100.0, 13000, 218.71674],time 11.326159715652466\n",
      "iter 101, res [1.0, 6.8, 100.0, 644.4444444444445, 25500, 287.409],time 21.97478413581848\n",
      "iter 102, res [1.0, 6.8, 100.0, 1188.888888888889, 15350, 282.55896],time 13.683647871017456\n",
      "iter 103, res [1.0, 6.8, 100.0, 1733.3333333333335, 15050, 280.18658],time 13.965375661849976\n",
      "iter 104, res [1.0, 6.8, 100.0, 2277.777777777778, 27250, 289.9394],time 25.018736124038696\n",
      "iter 105, res [1.0, 6.8, 100.0, 2822.222222222222, 30800, 284.4142],time 26.60643219947815\n",
      "iter 106, res [1.0, 6.8, 100.0, 3366.666666666667, 25950, 281.11322],time 22.84328031539917\n",
      "iter 107, res [1.0, 6.8, 100.0, 3911.1111111111113, 24350, 282.153],time 21.47779083251953\n",
      "iter 108, res [1.0, 6.8, 100.0, 4455.555555555556, 37200, 282.86572],time 31.475663900375366\n",
      "iter 109, res [1.0, 6.8, 100.0, 5000.0, 28150, 278.0346],time 24.139328002929688\n",
      "iter 110, res [1.0, 6.8, 644.4444444444445, 100.0, 21250, 311.07828],time 18.224031448364258\n",
      "iter 111, res [1.0, 6.8, 644.4444444444445, 644.4444444444445, 19050, 293.72992],time 16.59665584564209\n",
      "iter 112, res [1.0, 6.8, 644.4444444444445, 1188.888888888889, 18300, 295.47833],time 15.892336130142212\n",
      "iter 113, res [1.0, 6.8, 644.4444444444445, 1733.3333333333335, 15250, 284.69278],time 13.67571210861206\n",
      "iter 114, res [1.0, 6.8, 644.4444444444445, 2277.777777777778, 23500, 285.4159],time 20.351871967315674\n",
      "iter 115, res [1.0, 6.8, 644.4444444444445, 2822.222222222222, 22750, 281.73938],time 19.62721586227417\n",
      "iter 116, res [1.0, 6.8, 644.4444444444445, 3366.666666666667, 15000, 270.38434],time 13.103327751159668\n",
      "iter 117, res [1.0, 6.8, 644.4444444444445, 3911.1111111111113, 18350, 270.2013],time 15.838272094726562\n",
      "iter 118, res [1.0, 6.8, 644.4444444444445, 4455.555555555556, 4550, 55.729446],time 4.589984178543091\n",
      "iter 119, res [1.0, 6.8, 644.4444444444445, 5000.0, 27100, 277.16284],time 23.365071773529053\n",
      "iter 120, res [1.0, 6.8, 1188.888888888889, 100.0, 7750, 302.23102],time 7.870527982711792\n",
      "iter 121, res [1.0, 6.8, 1188.888888888889, 644.4444444444445, 17350, 301.51944],time 16.69932794570923\n",
      "iter 122, res [1.0, 6.8, 1188.888888888889, 1188.888888888889, 15300, 289.20984],time 13.899904251098633\n"
     ]
    }
   ],
   "source": [
    "def _iterator():\n",
    "    for learn_rate in [1]:\n",
    "        for sigma in np.linspace(1, 30, 6):\n",
    "            for tau1 in np.linspace(100, 5000, 10):\n",
    "                for tau2 in np.linspace(100, 5000, 10):\n",
    "                    yield (np.array([learn_rate, sigma, tau1, tau2]))\n",
    "        \n",
    "def worker(x):\n",
    "    \n",
    "    learn_rate, sigma, tau1, tau2 = x\n",
    "    SOM.change_params(sigma=sigma,learning_rate=learn_rate,tau1=tau1,tau2=tau2, init_map=DATA.reshape(30,30,3))\n",
    "    iters, funq = SOM.training(DATA, 40000)\n",
    "    \n",
    "    res = [learn_rate, sigma, tau1, tau2, iters, funq]\n",
    "    #print(f'{res}, time {Time_exec}')\n",
    "    return res\n",
    "\n",
    "\n",
    "\n",
    "\n",
    "SOM = SOMNetwork(x=30,y=30,dim=len(DATA[0]),sigma=2,learning_rate=1,tau1=2000,tau2=100,dtype=tf.float32)\n",
    "testing_params = []\n",
    "for num_iter,x in enumerate(_iterator()):\n",
    "    time_start = time()\n",
    "    res = worker(x)\n",
    "    Time_exec = time()-time_start\n",
    "    print(f'iter {num_iter}, res {res},time {Time_exec}')\n",
    "    testing_params.append(res)\n",
    "    if num_iter %10==0:\n",
    "        np.save('testing_params2.npy',np.array(testing_params))\n",
    "np.save('testing_params2.npy',np.array(testing_params))"
   ]
  },
  {
   "cell_type": "code",
   "execution_count": 16,
   "metadata": {
    "scrolled": true
   },
   "outputs": [
    {
     "name": "stdout",
     "output_type": "stream",
     "text": [
      "(array([  2,  11,  34,  61,  73,  78,  85, 100, 108, 122, 137, 142, 149,\n",
      "       156, 163, 178, 185, 192, 198, 204], dtype=int64),)\n",
      "[[1.00000000e+00 6.00000000e+00 4.22222222e+02 1.00000000e+02\n",
      "  8.50000000e+02 1.45321922e+05]\n",
      " [1.00000000e+00 6.00000000e+00 7.44444444e+02 1.00000000e+02\n",
      "  8.50000000e+02 1.44185438e+05]\n",
      " [1.00000000e+00 6.00000000e+00 1.71111111e+03 1.00000000e+02\n",
      "  7.00000000e+02 1.44024766e+05]\n",
      " [1.00000000e+00 6.00000000e+00 3.00000000e+03 1.00000000e+02\n",
      "  5.50000000e+02 1.41588531e+05]\n",
      " [1.00000000e+00 7.55555556e+00 4.22222222e+02 1.00000000e+02\n",
      "  8.00000000e+02 1.44922344e+05]\n",
      " [1.00000000e+00 7.55555556e+00 7.44444444e+02 1.00000000e+02\n",
      "  6.00000000e+02 1.42638297e+05]\n",
      " [1.00000000e+00 7.55555556e+00 1.06666667e+03 1.00000000e+02\n",
      "  7.00000000e+02 1.44515531e+05]\n",
      " [1.00000000e+00 7.55555556e+00 1.71111111e+03 1.00000000e+02\n",
      "  6.00000000e+02 1.47580906e+05]\n",
      " [1.00000000e+00 7.55555556e+00 2.03333333e+03 1.00000000e+02\n",
      "  5.00000000e+02 1.43369109e+05]\n",
      " [1.00000000e+00 7.55555556e+00 2.67777778e+03 1.00000000e+02\n",
      "  6.00000000e+02 1.44564844e+05]\n",
      " [1.00000000e+00 9.11111111e+00 4.22222222e+02 1.00000000e+02\n",
      "  9.50000000e+02 1.42522391e+05]\n",
      " [1.00000000e+00 9.11111111e+00 7.44444444e+02 1.00000000e+02\n",
      "  8.50000000e+02 1.43452469e+05]\n",
      " [1.00000000e+00 9.11111111e+00 1.06666667e+03 1.00000000e+02\n",
      "  9.50000000e+02 1.41628094e+05]\n",
      " [1.00000000e+00 9.11111111e+00 1.38888889e+03 1.00000000e+02\n",
      "  6.00000000e+02 1.43407562e+05]\n",
      " [1.00000000e+00 9.11111111e+00 1.71111111e+03 1.00000000e+02\n",
      "  8.00000000e+02 1.44752469e+05]\n",
      " [1.00000000e+00 9.11111111e+00 2.67777778e+03 1.00000000e+02\n",
      "  5.50000000e+02 1.48712625e+05]\n",
      " [1.00000000e+00 9.11111111e+00 3.00000000e+03 1.00000000e+02\n",
      "  5.50000000e+02 1.41352875e+05]\n",
      " [1.00000000e+00 1.06666667e+01 4.22222222e+02 1.00000000e+02\n",
      "  8.50000000e+02 1.41988969e+05]\n",
      " [1.00000000e+00 1.06666667e+01 7.44444444e+02 1.00000000e+02\n",
      "  6.50000000e+02 1.41618656e+05]\n",
      " [1.00000000e+00 1.06666667e+01 1.06666667e+03 1.00000000e+02\n",
      "  9.00000000e+02 1.46978547e+05]]\n"
     ]
    }
   ],
   "source": [
    "a=np.load('testing_params1.npy')\n",
    "ind = np.where(a[:,5]>135000)\n",
    "a=a[ind]\n",
    "ind = np.where(a[:,5]<150000)\n",
    "a=a[ind]\n",
    "ind = np.where(a[:,4]<1000)\n",
    "print(ind)\n",
    "print(a[ind])"
   ]
  },
  {
   "cell_type": "code",
   "execution_count": 3,
   "metadata": {},
   "outputs": [
    {
     "name": "stdout",
     "output_type": "stream",
     "text": [
      "INFO:tensorflow:Summary name Learning rate is illegal; using Learning_rate instead.\n"
     ]
    },
    {
     "name": "stderr",
     "output_type": "stream",
     "text": [
      "Clipping input data to the valid range for imshow with RGB data ([0..1] for floats or [0..255] for integers).\n"
     ]
    },
    {
     "name": "stdout",
     "output_type": "stream",
     "text": [
      "iter: 0\n",
      "iter: 1000\n",
      "iter: 2000\n",
      "iter: 3000\n",
      "iter: 4000\n",
      "iter: 5000\n",
      "iter: 6000\n",
      "iter: 7000\n",
      "iter: 8000\n",
      "iter: 9000\n",
      "iter: 10000\n",
      "iter: 11000\n",
      "iter: 12000\n",
      "iter: 13000\n",
      "iter: 14000\n",
      "iter: 15000\n",
      "iter: 16000\n",
      "iter: 17000\n",
      "iter: 18000\n",
      "iter: 19000\n"
     ]
    },
    {
     "name": "stderr",
     "output_type": "stream",
     "text": [
      "Clipping input data to the valid range for imshow with RGB data ([0..1] for floats or [0..255] for integers).\n"
     ]
    },
    {
     "name": "stdout",
     "output_type": "stream",
     "text": [
      "22.28634023666382\n"
     ]
    },
    {
     "data": {
      "image/png": "[encoded data removed]",
      "text/plain": [
       "<Figure size 432x288 with 2 Axes>"
      ]
     },
     "metadata": {
      "needs_background": "light"
     },
     "output_type": "display_data"
    }
   ],
   "source": [
    "import time\n",
    "import numpy as np\n",
    "import tensorflow as tf\n",
    "import matplotlib.pyplot as plt     \n",
    "\n",
    "class SOMNetwork():\n",
    "\tdef __init__(self, input_dim, dim=10, sigma=None, learning_rate=0.1, tay2=1000, dtype=tf.float32):\n",
    "\t\tif not sigma:\n",
    "\t\t\tsigma = dim / 2\n",
    "\t\tself.dtype = dtype\n",
    "\t\t#constants\n",
    "\t\tself.dim = tf.constant(dim, dtype=tf.int64)\n",
    "\t\tself.learning_rate = tf.constant(learning_rate, dtype=dtype, name='learning_rate')\n",
    "\t\tself.sigma = tf.constant(sigma, dtype=dtype, name='sigma')\n",
    "\t\tself.tay1 = tf.constant(1000/np.log(sigma), dtype=dtype, name='tay1')\n",
    "\t\tself.minsigma = tf.constant(sigma * np.exp(-1000/(1000/np.log(sigma))), dtype=dtype, name='min_sigma')\n",
    "\t\tself.tay2 = tf.constant(tay2, dtype=dtype, name='tay2')\n",
    "\t\t#input vector\n",
    "\t\tself.x = tf.placeholder(shape=[input_dim], dtype=dtype, name='input')\n",
    "\t\t#iteration number\n",
    "\t\tself.n = tf.placeholder(dtype=dtype, name='iteration')\n",
    "\t\t#variables\n",
    "\t\tself.w = tf.Variable(tf.random_uniform([dim*dim, input_dim], minval=-1, maxval=1, dtype=dtype),\n",
    "\t\t\tdtype=dtype, name='weights')\n",
    "\t\t#helper\n",
    "\t\tself.positions = tf.where(tf.fill([dim, dim], True))\n",
    "\n",
    "\n",
    "\n",
    "\tdef training_op(self):\n",
    "\t\twin_index = self.__competition('train_')\n",
    "\t\twith tf.name_scope('cooperation') as scope:\n",
    "\t\t\tcoop_dist = tf.sqrt(tf.reduce_sum(tf.square(tf.cast(self.positions -\n",
    "\t\t\t\t[win_index//self.dim, win_index-win_index//self.dim*self.dim], \n",
    "\t\t\t\tdtype=self.dtype)), axis=1))\n",
    "\t\t\tsigma = tf.cond(self.n > 1000, lambda: self.minsigma, lambda: self.sigma * tf.exp(-self.n/self.tay1))\n",
    "\t\t\tsigma_summary = tf.summary.scalar('Sigma', sigma)\n",
    "\t\t\ttnh = tf.exp(-tf.square(coop_dist) / (2 * tf.square(sigma))) # topological neighbourhood\n",
    "\t\twith tf.name_scope('adaptation') as scope:\n",
    "\t\t\tlr = self.learning_rate * tf.exp(-self.n/self.tay2)\n",
    "\t\t\tminlr = tf.constant(0.01, dtype=self.dtype, name='min_learning_rate')\n",
    "\t\t\tlr = tf.cond(lr <= minlr, lambda: minlr, lambda: lr)\n",
    "\t\t\tlr_summary = tf.summary.scalar('Learning rate', lr)\n",
    "\t\t\tdelta = tf.transpose(lr * tnh * tf.transpose(self.x - self.w))\n",
    "\t\t\ttraining_op = tf.assign(self.w, self.w + delta)\n",
    "\t\treturn training_op, lr_summary, sigma_summary\n",
    "\n",
    "\tdef __competition(self, info=''):\n",
    "\t\twith tf.name_scope(info+'competition') as scope:\n",
    "\t\t\tdistance = tf.sqrt(tf.reduce_sum(tf.square(self.x - self.w), axis=1))\n",
    "\t\treturn tf.argmin(distance, axis=0)\n",
    "\n",
    "#== Test SOM Network ==\n",
    "\n",
    "def test_som_with_color_data():\n",
    "\tsom_dim = 100\n",
    "\tsom = SOMNetwork(input_dim=3, dim=som_dim, dtype=tf.float64, sigma=3)\n",
    "\ttest_data = np.random.uniform(0, 1, (20000, 3))\n",
    "\ttraining_op, lr_summary, sigma_summary = som.training_op()\n",
    "\tinit = tf.global_variables_initializer()\n",
    "\twriter = tf.summary.FileWriter('./logs/', tf.get_default_graph())\n",
    "\twith tf.Session() as sess:\n",
    "\t\tinit.run()\n",
    "\t\timg1 = tf.reshape(som.w, [som_dim,som_dim,-1]).eval()\n",
    "\t\tplt.figure(1)\n",
    "\t\tplt.subplot(121)\n",
    "\t\tplt.imshow(img1)\n",
    "\t\tstart = time.time()\n",
    "\t\tfor i, color_data in enumerate(test_data):\n",
    "\t\t\tif i % 1000 == 0:\n",
    "\t\t\t\tprint('iter:', i)\n",
    "\t\t\tsess.run(training_op, feed_dict={som.x: color_data, som.n:i})\n",
    "\t\tend = time.time()\n",
    "\t\tprint(end - start)\n",
    "\t\timg2 = tf.reshape(som.w, [som_dim,som_dim,-1]).eval()\n",
    "\t\tplt.subplot(122)\n",
    "\t\tplt.imshow(img2)\n",
    "\twriter.close()\n",
    "\tplt.show()\t\t\n",
    "\n",
    "test_som_with_color_data()"
   ]
  },
  {
   "cell_type": "code",
   "execution_count": 2,
   "metadata": {},
   "outputs": [],
   "source": [
    "def Get_Distances(y,x):\n",
    "    def ring_closure(A):\n",
    "        if A==1: return [0]\n",
    "        a=np.arange(A)\n",
    "        max_val = int(len(a)/2)\n",
    "        max_ind=np.argwhere(a==max_val)[0,0]\n",
    "        if len(a)%2==0:\n",
    "            b=np.arange(1,a[max_ind])[::-1]\n",
    "        else:\n",
    "            b=np.arange(1,a[max_ind+1])[::-1]\n",
    "        a[max_ind+1:]=b\n",
    "        return a\n",
    "    yv=ring_closure(y)\n",
    "    xv=ring_closure(x)\n",
    "    XV, YV = np.meshgrid(xv, yv)\n",
    "    #res = np.stack((YV,XV), axis=-1)\n",
    "    res = np.sqrt(XV**2+YV**2)\n",
    "    return res"
   ]
  },
  {
   "cell_type": "code",
   "execution_count": 5,
   "metadata": {},
   "outputs": [],
   "source": [
    "a=np.ones((x*y,5))*np.array([1,2,3,4,5])"
   ]
  },
  {
   "cell_type": "code",
   "execution_count": 22,
   "metadata": {},
   "outputs": [
    {
     "name": "stdout",
     "output_type": "stream",
     "text": [
      "[0 2]\n",
      "[0.666743  0.77672   0.9048374 0.77672   0.666743 ]\n",
      "[[ 1.333486  1.333486  1.333486  1.333486  1.333486]\n",
      " [ 0.77672   0.77672   0.77672   0.77672   0.77672 ]\n",
      " [ 0.        0.        0.        0.        0.      ]\n",
      " [-0.77672  -0.77672  -0.77672  -0.77672  -0.77672 ]\n",
      " [-1.333486 -1.333486 -1.333486 -1.333486 -1.333486]]\n"
     ]
    }
   ],
   "source": [
    "x=5\n",
    "y=1\n",
    "def _generate_index_matrix(x, y):\n",
    "        return tf.constant(np.array(list(_iterator(x, y))))\n",
    "    \n",
    "def _iterator(x, y):\n",
    "    for i in range(x):\n",
    "        for j in range(y):\n",
    "            yield np.array([i, j])\n",
    "\n",
    "\n",
    "            \n",
    "_distance_map = tf.constant(Get_Distances(y,x),dtype='float32')\n",
    "_locations = _generate_index_matrix(y, x)\n",
    "\n",
    "# Build a dataflow graph.\n",
    "_weights  = tf.Variable(a.T,dtype='float32')\n",
    "_input = 3*tf.constant([1, 1, 1, 1, 1],dtype='float32')\n",
    "input_matix = tf.stack([_input for i in range(x*y)])\n",
    "distances = tf.sqrt(tf.reduce_sum((_weights-_input)**2, -1))\n",
    "bmu = tf.argmin(distances, 0)\n",
    "bmu_location = _locations[bmu]\n",
    "_current_learning_rate = tf.maximum(1*tf.exp(-100/1000), 0.1)\n",
    "_current_radius = 2*tf.exp(-100/1000)\n",
    "\n",
    "bmu_distance = tf.reshape(tf.roll(_distance_map,shift=bmu_location, axis=[0, 1]),[-1])\n",
    "neighbourhood_func = tf.exp(-bmu_distance/(2*_current_radius**2))\n",
    "learning_rate_matrix = tf.multiply(_current_learning_rate, neighbourhood_func)\n",
    " \n",
    "#Update all the weights\n",
    "multiplytiplier = tf.stack([tf.tile(tf.slice(learning_rate_matrix, np.array([i]), np.array([1])), [5])\n",
    "                                               for i in range(x*y)])\n",
    "\n",
    "delta = tf.transpose(tf.transpose(_input-_weights)*learning_rate_matrix)\n",
    "\n",
    "# Construct a `Session` to execute the graph.\n",
    "#sess = tf.Session()\n",
    "with tf.Session() as sess:\n",
    "    sess.run(tf.global_variables_initializer())\n",
    "    #print(sess.run(distances))\n",
    "    #print(sess.run(_locations))\n",
    "    #print(sess.run(bmu))\n",
    "    print(sess.run(bmu_location))\n",
    "    #print(sess.run(_distance_map))\n",
    "    ##print(sess.run(bmu_distance))\n",
    "    #print(sess.run(neighbourhood_func))\n",
    "    print(sess.run(learning_rate_matrix))\n",
    "    #print(sess.run(multiplytiplier))\n",
    "    print(sess.run(delta))\n",
    "\n",
    "\n",
    "# Execute the graph and store the value that `e` represents in `result`.\n",
    "#result = sess.run(bmu_location)\n",
    "#print(result)\n"
   ]
  },
  {
   "cell_type": "code",
   "execution_count": 23,
   "metadata": {},
   "outputs": [
    {
     "name": "stdout",
     "output_type": "stream",
     "text": [
      "29.147895574569702\n"
     ]
    }
   ],
   "source": [
    "time_start = time()\n",
    "\n",
    "x = tf.constant(1.0, name='input')\n",
    "w = tf.Variable(0.8, name='weight')\n",
    "y = tf.multiply(w, x, name='output')\n",
    "y_ = tf.constant(0.0, name='correct_value')\n",
    "loss = tf.pow(y - y_, 2, name='loss')\n",
    "z = tf.add(y,2, name='JEJE')\n",
    "train_step = tf.train.GradientDescentOptimizer(0.025).minimize(loss)\n",
    "\n",
    "for value in [z,x, w, y, y_, loss]:\n",
    "    tf.summary.scalar(value.op.name, value)\n",
    "\n",
    "summaries = tf.summary.merge_all()\n",
    "\n",
    "sess = tf.Session()\n",
    "summary_writer = tf.summary.FileWriter('log_simple_stats', sess.graph)\n",
    "\n",
    "sess.run(tf.global_variables_initializer())\n",
    "for i in range(100):\n",
    "    summary_writer.add_summary(sess.run(summaries), i)\n",
    "    #print('before step {}, y is {}'.format(i, sess.run(y)))\n",
    "    #sess.run(y)\n",
    "    sess.run(train_step)\n",
    "\n",
    "print(time()-time_start)"
   ]
  },
  {
   "cell_type": "code",
   "execution_count": 8,
   "metadata": {},
   "outputs": [],
   "source": [
    "import numpy\n",
    "from mayavi.mlab import *\n",
    "\n",
    "def test_points3d():\n",
    "    x = DATA[:,0]\n",
    "    y = DATA[:,1]\n",
    "    z = DATA[:,2]\n",
    "\n",
    "    return points3d(x, y, z, colormap=\"copper\", scale_factor=.25)\n",
    "\n",
    "test_points3d()\n",
    "show()"
   ]
  },
  {
   "cell_type": "code",
   "execution_count": null,
   "metadata": {},
   "outputs": [],
   "source": []
  }
 ],
 "metadata": {
  "kernelspec": {
   "display_name": "Python 3",
   "language": "python",
   "name": "python3"
  },
  "language_info": {
   "codemirror_mode": {
    "name": "ipython",
    "version": 3
   },
   "file_extension": ".py",
   "mimetype": "text/x-python",
   "name": "python",
   "nbconvert_exporter": "python",
   "pygments_lexer": "ipython3",
   "version": "3.7.3"
  }
 },
 "nbformat": 4,
 "nbformat_minor": 2
}
